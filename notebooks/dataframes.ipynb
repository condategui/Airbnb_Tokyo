{
 "cells": [
  {
   "cell_type": "code",
   "execution_count": 13,
   "metadata": {},
   "outputs": [],
   "source": [
    "import pandas as pd "
   ]
  },
  {
   "cell_type": "code",
   "execution_count": 32,
   "metadata": {},
   "outputs": [],
   "source": [
    "df = pd.read_csv('../data/normal_dataframe.csv')"
   ]
  },
  {
   "cell_type": "code",
   "execution_count": 15,
   "metadata": {},
   "outputs": [],
   "source": [
    "luxury = pd.read_csv('../data/luxury_dataframe.csv')"
   ]
  },
  {
   "cell_type": "code",
   "execution_count": 33,
   "metadata": {},
   "outputs": [],
   "source": [
    "sample_df = df.sample(frac= 0.05, random_state=357)"
   ]
  },
  {
   "cell_type": "code",
   "execution_count": 34,
   "metadata": {},
   "outputs": [
    {
     "name": "stdout",
     "output_type": "stream",
     "text": [
      "<class 'pandas.core.frame.DataFrame'>\n",
      "Index: 369956 entries, 1334650 to 5361947\n",
      "Data columns (total 20 columns):\n",
      " #   Column                          Non-Null Count   Dtype  \n",
      "---  ------                          --------------   -----  \n",
      " 0   id                              369956 non-null  int64  \n",
      " 1   name                            369956 non-null  object \n",
      " 2   host_id                         369956 non-null  int64  \n",
      " 3   host_name                       369874 non-null  object \n",
      " 4   date                            369956 non-null  object \n",
      " 5   neighbourhood                   369956 non-null  object \n",
      " 6   price                           369956 non-null  float64\n",
      " 7   room_type                       369956 non-null  object \n",
      " 8   minimum_nights                  369956 non-null  int64  \n",
      " 9   maximum_nights                  369956 non-null  int64  \n",
      " 10  latitude                        369956 non-null  float64\n",
      " 11  longitude                       369956 non-null  float64\n",
      " 12  number_of_reviews               369956 non-null  int64  \n",
      " 13  neighbourhood_group             0 non-null       float64\n",
      " 14  calculated_host_listings_count  369956 non-null  int64  \n",
      " 15  availability_365                369956 non-null  int64  \n",
      " 16  price_dollar                    369956 non-null  float64\n",
      " 17  priceDisc                       369956 non-null  object \n",
      " 18  year                            369956 non-null  int64  \n",
      " 19  month                           369956 non-null  int64  \n",
      "dtypes: float64(5), int64(9), object(6)\n",
      "memory usage: 59.3+ MB\n"
     ]
    }
   ],
   "source": [
    "sample_df.info()"
   ]
  },
  {
   "cell_type": "code",
   "execution_count": 35,
   "metadata": {},
   "outputs": [],
   "source": [
    "sample_df.to_csv('../data/normal_dataframe.csv')\n",
    "\n"
   ]
  }
 ],
 "metadata": {
  "kernelspec": {
   "display_name": "Python 3",
   "language": "python",
   "name": "python3"
  },
  "language_info": {
   "codemirror_mode": {
    "name": "ipython",
    "version": 3
   },
   "file_extension": ".py",
   "mimetype": "text/x-python",
   "name": "python",
   "nbconvert_exporter": "python",
   "pygments_lexer": "ipython3",
   "version": "3.10.11"
  }
 },
 "nbformat": 4,
 "nbformat_minor": 2
}
