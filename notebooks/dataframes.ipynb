{
 "cells": [
  {
   "cell_type": "code",
   "execution_count": 13,
   "metadata": {},
   "outputs": [],
   "source": [
    "import pandas as pd "
   ]
  },
  {
   "cell_type": "code",
   "execution_count": 14,
   "metadata": {},
   "outputs": [],
   "source": [
    "df = pd.read_csv('../data/normal_dataframe.csv')"
   ]
  },
  {
   "cell_type": "code",
   "execution_count": 15,
   "metadata": {},
   "outputs": [],
   "source": [
    "luxury = pd.read_csv('../data/luxury_dataframe.csv')"
   ]
  },
  {
   "cell_type": "code",
   "execution_count": 16,
   "metadata": {},
   "outputs": [],
   "source": [
    "sample_df = df.sample(frac= 0.1, random_state=357)"
   ]
  },
  {
   "cell_type": "code",
   "execution_count": 8,
   "metadata": {},
   "outputs": [
    {
     "name": "stdout",
     "output_type": "stream",
     "text": [
      "<class 'pandas.core.frame.DataFrame'>\n",
      "Index: 739912 entries, 1334650 to 4360521\n",
      "Data columns (total 20 columns):\n",
      " #   Column                          Non-Null Count   Dtype  \n",
      "---  ------                          --------------   -----  \n",
      " 0   id                              739912 non-null  int64  \n",
      " 1   name                            739912 non-null  object \n",
      " 2   host_id                         739912 non-null  int64  \n",
      " 3   host_name                       739759 non-null  object \n",
      " 4   date                            739912 non-null  object \n",
      " 5   neighbourhood                   739912 non-null  object \n",
      " 6   price                           739912 non-null  float64\n",
      " 7   room_type                       739912 non-null  object \n",
      " 8   minimum_nights                  739912 non-null  int64  \n",
      " 9   maximum_nights                  739912 non-null  int64  \n",
      " 10  latitude                        739912 non-null  float64\n",
      " 11  longitude                       739912 non-null  float64\n",
      " 12  number_of_reviews               739912 non-null  int64  \n",
      " 13  neighbourhood_group             0 non-null       float64\n",
      " 14  calculated_host_listings_count  739912 non-null  int64  \n",
      " 15  availability_365                739912 non-null  int64  \n",
      " 16  price_dollar                    739912 non-null  float64\n",
      " 17  priceDisc                       739912 non-null  object \n",
      " 18  year                            739912 non-null  int64  \n",
      " 19  month                           739912 non-null  int64  \n",
      "dtypes: float64(5), int64(9), object(6)\n",
      "memory usage: 118.5+ MB\n"
     ]
    }
   ],
   "source": [
    "sample_df.info()"
   ]
  },
  {
   "cell_type": "code",
   "execution_count": 17,
   "metadata": {},
   "outputs": [],
   "source": [
    "sample_df.to_csv('../data/normal_dataframe.csv')\n",
    "\n"
   ]
  }
 ],
 "metadata": {
  "kernelspec": {
   "display_name": "Python 3",
   "language": "python",
   "name": "python3"
  },
  "language_info": {
   "codemirror_mode": {
    "name": "ipython",
    "version": 3
   },
   "file_extension": ".py",
   "mimetype": "text/x-python",
   "name": "python",
   "nbconvert_exporter": "python",
   "pygments_lexer": "ipython3",
   "version": "3.10.11"
  }
 },
 "nbformat": 4,
 "nbformat_minor": 2
}
